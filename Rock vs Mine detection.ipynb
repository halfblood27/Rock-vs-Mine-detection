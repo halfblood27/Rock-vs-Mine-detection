{
 "cells": [
  {
   "cell_type": "code",
   "execution_count": 60,
   "id": "6836223a-c2a1-4749-96c1-bfb8d3cbf739",
   "metadata": {},
   "outputs": [],
   "source": [
    "import numpy as np\n",
    "import pandas as pd\n",
    "import matplotlib.pyplot as plt\n",
    "from sklearn.model_selection import train_test_split\n",
    "from sklearn.linear_model import LogisticRegression\n",
    "from sklearn.metrics import accuracy_score\n",
    "\n",
    "d=pd.read_csv(\"Copy of sonar data.csv\",header=None)\n",
    "\n",
    "X=d.drop(columns=60,axis=1)\n",
    "Y=d[60]"
   ]
  },
  {
   "cell_type": "code",
   "execution_count": 117,
   "id": "0b29f508-470f-49fd-a191-6fe512eb1a6d",
   "metadata": {},
   "outputs": [],
   "source": [
    "X_train,X_test,Y_train,Y_test=train_test_split(X,Y,test_size=0.1,random_state=1,stratify=Y)\n"
   ]
  },
  {
   "cell_type": "code",
   "execution_count": 108,
   "id": "d1e42ee7-3c1b-46d6-b4cd-1bdb7fb3f5ea",
   "metadata": {
    "scrolled": true
   },
   "outputs": [
    {
     "name": "stdout",
     "output_type": "stream",
     "text": [
      "0.8571428571428571\n"
     ]
    }
   ],
   "source": [
    "model=LogisticRegression()\n",
    "model.fit(X_train,Y_train)\n",
    "\n",
    "X_prediction=model.predict(X_test)\n",
    "accuracy=accuracy_score(X_prediction,Y_test)\n",
    "\n",
    "print(accuracy)"
   ]
  },
  {
   "cell_type": "code",
   "execution_count": 118,
   "id": "4b7e56de-25c4-4894-87ba-151fd59ed54d",
   "metadata": {},
   "outputs": [
    {
     "name": "stdout",
     "output_type": "stream",
     "text": [
      "it was rock\n"
     ]
    }
   ],
   "source": [
    "input_data=(0.0123,0.0309,0.0169,0.0313,0.0358,0.0102,0.0182,0.0579,0.1122,0.0835,0.0548,0.0847,0.2026,0.2557,0.1870,0.2032,0.1463,0.2849,0.5824,0.7728,0.7852,0.8515,0.5312,0.3653,0.5973,0.8275,1.0000,0.8673,0.6301,0.4591,0.3940,0.2576,0.2817,0.2641,0.2757,0.2698,0.3994,0.4576,0.3940,0.2522,0.1782,0.1354,0.0516,0.0337,0.0894,0.0861,0.0872,0.0445,0.0134,0.0217,0.0188,0.0133,0.0265,0.0224,0.0074,0.0118,0.0026,0.0092,0.0009,0.0044)\n",
    "input_data_as_array=np.asarray(input_data)\n",
    "input_data_reshaped=input_data_as_array.reshape(1,-1)\n",
    "prediction=model.predict(input_data_reshaped)\n",
    "\n",
    "if (prediction==\"R\"):\n",
    "    print(\"it was rock\")\n",
    "else:\n",
    "    print(\"it was mine\")"
   ]
  }
 ],
 "metadata": {
  "kernelspec": {
   "display_name": "Python 3 (ipykernel)",
   "language": "python",
   "name": "python3"
  },
  "language_info": {
   "codemirror_mode": {
    "name": "ipython",
    "version": 3
   },
   "file_extension": ".py",
   "mimetype": "text/x-python",
   "name": "python",
   "nbconvert_exporter": "python",
   "pygments_lexer": "ipython3",
   "version": "3.11.7"
  }
 },
 "nbformat": 4,
 "nbformat_minor": 5
}
